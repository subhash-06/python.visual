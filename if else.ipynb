{
 "cells": [
  {
   "cell_type": "code",
   "execution_count": 3,
   "metadata": {},
   "outputs": [
    {
     "name": "stdout",
     "output_type": "stream",
     "text": [
      "positive\n"
     ]
    }
   ],
   "source": [
    "#53 WAP to check whether a number is positive or negative. If Positive print positive \n",
    "#  message or else print Negative Number.\n",
    "a=27\n",
    "if a>0:\n",
    "    print(\"positive\")\n",
    "else:\n",
    "    print(\"negitive\")"
   ]
  },
  {
   "cell_type": "code",
   "execution_count": 4,
   "metadata": {},
   "outputs": [
    {
     "name": "stdout",
     "output_type": "stream",
     "text": [
      "odd\n"
     ]
    }
   ],
   "source": [
    "# 54 WAP to check whether a number is even or odd. If even, print message an even \n",
    "# or else print message as odd.\n",
    "a=23\n",
    "if a%2==0:\n",
    "    print(\"even\")\n",
    "else:\n",
    "    print(\"odd\")\n"
   ]
  },
  {
   "cell_type": "code",
   "execution_count": 5,
   "metadata": {},
   "outputs": [
    {
     "name": "stdout",
     "output_type": "stream",
     "text": [
      "greator\n"
     ]
    }
   ],
   "source": [
    "# 55 Write a program to check whether a given number is greater than 10 or not. if it \n",
    "# is greater than 10 print message as greater or else print that number with not a \n",
    "# greater than.\n",
    "a=11\n",
    "if a>10:\n",
    "    print(\"greator\")\n",
    "else:\n",
    "    print(\"not greator than\")"
   ]
  },
  {
   "cell_type": "code",
   "execution_count": 8,
   "metadata": {},
   "outputs": [
    {
     "name": "stdout",
     "output_type": "stream",
     "text": [
      "A\n"
     ]
    }
   ],
   "source": [
    "# 56 \n",
    "a=65\n",
    "if 45<a<125:\n",
    "    print(chr(a))"
   ]
  },
  {
   "cell_type": "code",
   "execution_count": 9,
   "metadata": {},
   "outputs": [
    {
     "name": "stdout",
     "output_type": "stream",
     "text": [
      "good morning\n"
     ]
    }
   ],
   "source": [
    "# 57 WAP to check whether the given two input numbers are divisible by 3 and 5. If it \n",
    "# is divisible, print “Good Morning”, if it is not divisible print “Good Evening”.\n",
    "a=15\n",
    "b=15\n",
    "if a%3==0 or a%5==0 and b%3==0 and b%5==0:\n",
    "    print(\"good morning\")\n",
    "else:\n",
    "    print(\"good evevening\")\n"
   ]
  },
  {
   "cell_type": "code",
   "execution_count": 10,
   "metadata": {},
   "outputs": [
    {
     "name": "stdout",
     "output_type": "stream",
     "text": [
      "400\n"
     ]
    }
   ],
   "source": [
    "# 58 WAP to accept two integers and check whether those two values are equal or not.\n",
    "# If equal, multiply to value or else to display the quotation value.\n",
    "a=20\n",
    "b=20\n",
    "if a==b:\n",
    "    print(a*b)\n",
    "else:\n",
    "    ptint(a/b)"
   ]
  },
  {
   "cell_type": "code",
   "execution_count": 11,
   "metadata": {},
   "outputs": [
    {
     "name": "stdout",
     "output_type": "stream",
     "text": [
      "20\n"
     ]
    }
   ],
   "source": [
    "# 59\n",
    "a=10\n",
    "b=20\n",
    "if a>b:\n",
    "    print(a)\n",
    "else:\n",
    "    print(b)"
   ]
  },
  {
   "cell_type": "code",
   "execution_count": 16,
   "metadata": {},
   "outputs": [
    {
     "name": "stdout",
     "output_type": "stream",
     "text": [
      "greator 20\n"
     ]
    }
   ],
   "source": [
    "# 60\n",
    "a=20\n",
    "if a>10:\n",
    "    print(\"greator\",a)\n",
    "else:\n",
    "    print(a)"
   ]
  },
  {
   "cell_type": "code",
   "execution_count": 22,
   "metadata": {},
   "outputs": [
    {
     "name": "stdout",
     "output_type": "stream",
     "text": [
      "1\n"
     ]
    }
   ],
   "source": [
    "# 61\n",
    "n=22\n",
    "if n>21:\n",
    "    res=n-21\n",
    "    print(res)\n",
    "else:\n",
    "    print(res*2)"
   ]
  },
  {
   "cell_type": "code",
   "execution_count": 23,
   "metadata": {},
   "outputs": [
    {
     "name": "stdout",
     "output_type": "stream",
     "text": [
      "20\n"
     ]
    }
   ],
   "source": [
    "# 62\n",
    "a=20\n",
    "b=21\n",
    "if a<b:\n",
    "    print(a)\n",
    "else:\n",
    "    print(b)"
   ]
  },
  {
   "cell_type": "code",
   "execution_count": 25,
   "metadata": {},
   "outputs": [
    {
     "name": "stdout",
     "output_type": "stream",
     "text": [
      "20\n"
     ]
    }
   ],
   "source": [
    "# 63\n",
    "a=21\n",
    "if a%2==0:\n",
    "    print(a+1)\n",
    "else:\n",
    "    print(a-1)"
   ]
  },
  {
   "cell_type": "code",
   "execution_count": 29,
   "metadata": {},
   "outputs": [
    {
     "name": "stdout",
     "output_type": "stream",
     "text": [
      "9\n"
     ]
    }
   ],
   "source": [
    "# 64\n",
    "a=9\n",
    "if a%3==0:\n",
    "    print(a)\n",
    "else:\n",
    "    print(a**3)"
   ]
  },
  {
   "cell_type": "code",
   "execution_count": 85,
   "metadata": {},
   "outputs": [
    {
     "name": "stdout",
     "output_type": "stream",
     "text": [
      "10\n",
      "<class 'str'>\n"
     ]
    }
   ],
   "source": [
    "# 65\n",
    "a=10\n",
    "if a%3==0 and a%5==0:\n",
    "    print(a)\n",
    "else:\n",
    "    b=str(a)\n",
    "    print(b)\n",
    "    print(type(b))"
   ]
  },
  {
   "cell_type": "code",
   "execution_count": 31,
   "metadata": {},
   "outputs": [
    {
     "name": "stdout",
     "output_type": "stream",
     "text": [
      "100\n"
     ]
    }
   ],
   "source": [
    "# 66\n",
    "a=10\n",
    "if 1<a<19:\n",
    "    print(a**2)\n",
    "else:\n",
    "    print(a**3)"
   ]
  },
  {
   "cell_type": "code",
   "execution_count": 32,
   "metadata": {},
   "outputs": [
    {
     "name": "stdout",
     "output_type": "stream",
     "text": [
      "pass 41\n"
     ]
    }
   ],
   "source": [
    "# 67\n",
    "a=41\n",
    "if a>40:\n",
    "    print(\"pass\",a)\n",
    "else:\n",
    "    print(\"fail\",a)"
   ]
  },
  {
   "cell_type": "code",
   "execution_count": 87,
   "metadata": {},
   "outputs": [
    {
     "name": "stdout",
     "output_type": "stream",
     "text": [
      "2\n"
     ]
    }
   ],
   "source": [
    "# 68\n",
    "a=50\n",
    "if a%2==0 and 47<a<58 and (a!=0 or a%2!=0):\n",
    "    print(chr(a))\n",
    "else:\n",
    "    print(a//5)"
   ]
  },
  {
   "cell_type": "code",
   "execution_count": 49,
   "metadata": {},
   "outputs": [
    {
     "name": "stdout",
     "output_type": "stream",
     "text": [
      "{65: 'A'}\n"
     ]
    }
   ],
   "source": [
    "# 69\n",
    "a=65\n",
    "if a<125 and 47<a<125:\n",
    "    print({a:chr(a)})\n",
    "else:\n",
    "    print(list(str(a)))"
   ]
  },
  {
   "cell_type": "code",
   "execution_count": 62,
   "metadata": {},
   "outputs": [
    {
     "name": "stdout",
     "output_type": "stream",
     "text": [
      "alphabet b\n"
     ]
    }
   ],
   "source": [
    "# 70\n",
    "a=\"b\"\n",
    "if \"a\"<=a<=\"z\" or \"A\"<=a<=\"Z\":\n",
    "    print(\"alphabet\",a)\n",
    "else:\n",
    "    print(\"not alphabet\",a)\n"
   ]
  },
  {
   "cell_type": "code",
   "execution_count": 51,
   "metadata": {},
   "outputs": [
    {
     "name": "stdout",
     "output_type": "stream",
     "text": [
      "uppercase A\n"
     ]
    }
   ],
   "source": [
    "# 71\n",
    "a=\"A\"\n",
    "if 65<=ord(a)<+90:\n",
    "    print(\"uppercase\",a)\n",
    "else:\n",
    "    print(\"other char\",a)\n"
   ]
  },
  {
   "cell_type": "code",
   "execution_count": 59,
   "metadata": {},
   "outputs": [
    {
     "name": "stdout",
     "output_type": "stream",
     "text": [
      "97\n"
     ]
    }
   ],
   "source": [
    "# 73\n",
    "a=\"a\"\n",
    "if \"A\"<=a<=\"Z\":\n",
    "    print(chr(ord(a)+32))\n",
    "else:\n",
    "    print(ord(a))\n"
   ]
  },
  {
   "cell_type": "code",
   "execution_count": 63,
   "metadata": {},
   "outputs": [
    {
     "name": "stdout",
     "output_type": "stream",
     "text": [
      "a\n"
     ]
    }
   ],
   "source": [
    "# 74\n",
    "a=\"A\"\n",
    "if \"a\"<=a<=\"z\":\n",
    "    print(chr(ord(a)-32))\n",
    "else:\n",
    "    print(chr(ord(a)+32))\n",
    "\n"
   ]
  },
  {
   "cell_type": "code",
   "execution_count": 90,
   "metadata": {},
   "outputs": [
    {
     "name": "stdout",
     "output_type": "stream",
     "text": [
      "2\n"
     ]
    }
   ],
   "source": [
    "# 75\n",
    "a=\"jeep\"\n",
    "if not('A'<=a[0]<='Z' or 'a'<=a[0]<='z' or '0'<=a[0]<='9'):\n",
    "    print(a[len(a//2)])\n",
    "else:\n",
    "    print(len(a[::-1])//2)\n"
   ]
  },
  {
   "cell_type": "code",
   "execution_count": 78,
   "metadata": {},
   "outputs": [
    {
     "name": "stdout",
     "output_type": "stream",
     "text": [
      "VOWEL e\n"
     ]
    }
   ],
   "source": [
    "# 76\n",
    "n='e'\n",
    "if n in ['a','e','i','o','u']:\n",
    "    print(\"VOWEL\",n)\n",
    "else:\n",
    "    print(\"consonent\")\n"
   ]
  },
  {
   "cell_type": "code",
   "execution_count": 80,
   "metadata": {},
   "outputs": [
    {
     "name": "stdout",
     "output_type": "stream",
     "text": [
      "b\n"
     ]
    }
   ],
   "source": [
    "# 77\n",
    "n='a'\n",
    "if n in ['a','e','i','o','u']:\n",
    "    print(chr(ord(n)+1))\n",
    "else:\n",
    "    print(chr(ord(n)-1))\n"
   ]
  },
  {
   "cell_type": "code",
   "execution_count": 94,
   "metadata": {},
   "outputs": [
    {
     "name": "stdout",
     "output_type": "stream",
     "text": [
      "peeJ\n"
     ]
    }
   ],
   "source": [
    "# 78\n",
    "n=\"Jeep\"\n",
    "if \"A\"<=n[0]<=\"Z\":\n",
    "    print(n[::-1])\n",
    "else:\n",
    "    print(n[len(a)//2])"
   ]
  },
  {
   "cell_type": "code",
   "execution_count": 95,
   "metadata": {},
   "outputs": [
    {
     "name": "stdout",
     "output_type": "stream",
     "text": [
      "a\n"
     ]
    }
   ],
   "source": [
    "# 79\n",
    "a=\"A\"\n",
    "if \"a\"<=a<=\"z\":\n",
    "    print(chr(ord(a)-32))\n",
    "else:\n",
    "    print(chr(ord(a)+32))\n",
    "\n"
   ]
  },
  {
   "cell_type": "code",
   "execution_count": 96,
   "metadata": {},
   "outputs": [
    {
     "name": "stdout",
     "output_type": "stream",
     "text": [
      "epsubbu\n"
     ]
    }
   ],
   "source": [
    "# 80\n",
    "a=\"jeepsubbu\"\n",
    "if len(a)<3:\n",
    "    print(a)\n",
    "else:\n",
    "    print(a[2::])"
   ]
  },
  {
   "cell_type": "code",
   "execution_count": 104,
   "metadata": {},
   "outputs": [
    {
     "name": "stdout",
     "output_type": "stream",
     "text": [
      "j e\n"
     ]
    }
   ],
   "source": [
    "# 81\n",
    "a=\"jeepe\"\n",
    "if len(a)%2==0:\n",
    "    print(a+\" bye\")\n",
    "else:\n",
    "    print(a[0],a[-1])"
   ]
  },
  {
   "cell_type": "code",
   "execution_count": 114,
   "metadata": {},
   "outputs": [
    {
     "name": "stdout",
     "output_type": "stream",
     "text": [
      "haiijeep\n",
      "<class 'str'>\n"
     ]
    }
   ],
   "source": [
    "# 82\n",
    "a=\"jeep\"\n",
    "if len(a)%2==0:\n",
    "    print(\"haii\"+a)\n",
    "    print(type(\"haii\"+a))\n",
    "else:\n",
    "    print(a)\n",
    "    \n"
   ]
  },
  {
   "cell_type": "code",
   "execution_count": 119,
   "metadata": {},
   "outputs": [
    {
     "name": "stdout",
     "output_type": "stream",
     "text": [
      "jeeeke\n"
     ]
    }
   ],
   "source": [
    "# 83\n",
    "a=\"jeeek\"\n",
    "if not('A'<=a[-1]<='Z' or 'a'<=a[-1]<='z' or '0'<=a[-1]<='9'):\n",
    "    res=a[::-1]\n",
    "    res=res[0:2+1:]\n",
    "    print(res)\n",
    "else:\n",
    "    if (len(a)%2)!=0:\n",
    "        hi=a[len(a)//2]\n",
    "        bye=a+hi\n",
    "        print(bye)\n"
   ]
  },
  {
   "cell_type": "code",
   "execution_count": 123,
   "metadata": {},
   "outputs": [
    {
     "name": "stdout",
     "output_type": "stream",
     "text": [
      "not leap year\n"
     ]
    }
   ],
   "source": [
    "# 84\n",
    "a=2023\n",
    "if a%400==0 or a%4==0 and a%100!=0:\n",
    "    print(\"leap year\")\n",
    "else:\n",
    "    print(\"not leap year\")"
   ]
  },
  {
   "cell_type": "code",
   "execution_count": null,
   "metadata": {},
   "outputs": [],
   "source": [
    "# 85\n",
    "a=10\n",
    "b-20\n",
    "if a>b:\n",
    "    print()"
   ]
  },
  {
   "cell_type": "code",
   "execution_count": 124,
   "metadata": {},
   "outputs": [
    {
     "name": "stdout",
     "output_type": "stream",
     "text": [
      "avaliable\n"
     ]
    }
   ],
   "source": [
    "# 86\n",
    "a=[10,20,30]\n",
    "if 10 in a:\n",
    "    print(\"avaliable\")\n",
    "else:\n",
    "    print(\"not avaliable\")"
   ]
  },
  {
   "cell_type": "code",
   "execution_count": null,
   "metadata": {},
   "outputs": [],
   "source": [
    "# 87\n"
   ]
  }
 ],
 "metadata": {
  "kernelspec": {
   "display_name": "Python 3",
   "language": "python",
   "name": "python3"
  },
  "language_info": {
   "codemirror_mode": {
    "name": "ipython",
    "version": 3
   },
   "file_extension": ".py",
   "mimetype": "text/x-python",
   "name": "python",
   "nbconvert_exporter": "python",
   "pygments_lexer": "ipython3",
   "version": "3.11.5"
  },
  "orig_nbformat": 4
 },
 "nbformat": 4,
 "nbformat_minor": 2
}
