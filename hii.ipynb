{
 "cells": [
  {
   "cell_type": "code",
   "execution_count": 2,
   "metadata": {},
   "outputs": [
    {
     "name": "stdout",
     "output_type": "stream",
     "text": [
      "30\n"
     ]
    }
   ],
   "source": [
    "a=10\n",
    "b=20\n",
    "c=a+b\n",
    "print(c)"
   ]
  },
  {
   "cell_type": "code",
   "execution_count": 1,
   "metadata": {},
   "outputs": [
    {
     "name": "stdout",
     "output_type": "stream",
     "text": [
      "70\n"
     ]
    }
   ],
   "source": [
    "a=70\n",
    "if type(a)==int:\n",
    "    print(str(a))\n",
    "    "
   ]
  },
  {
   "cell_type": "code",
   "execution_count": 6,
   "metadata": {},
   "outputs": [
    {
     "name": "stdout",
     "output_type": "stream",
     "text": [
      "b\n"
     ]
    }
   ],
   "source": [
    "a=105\n",
    "if 60<a<125:\n",
    "    b=\"subbu\"\n",
    "\n",
    "    print(b[len(b)//2])\n",
    "    \n",
    "\n"
   ]
  },
  {
   "cell_type": "code",
   "execution_count": 8,
   "metadata": {},
   "outputs": [],
   "source": [
    "A=\"A\n",
    "..+.+.\n",
    "\"\n",
    "if 97<=ord(A)<=122:\n",
    "    print(A*2)"
   ]
  },
  {
   "cell_type": "code",
   "execution_count": 12,
   "metadata": {},
   "outputs": [
    {
     "name": "stdout",
     "output_type": "stream",
     "text": [
      "38\n"
     ]
    }
   ],
   "source": [
    "a=\"&\"\n",
    "print(ord(a))"
   ]
  },
  {
   "cell_type": "code",
   "execution_count": 15,
   "metadata": {},
   "outputs": [
    {
     "name": "stdout",
     "output_type": "stream",
     "text": [
      "33.333333333333336\n"
     ]
    }
   ],
   "source": [
    "a=int(input(\"Enter a value\"))\n",
    "b=int(input(\"enter b value\"))\n",
    "if a==b:\n",
    "    print((a*b)/3)"
   ]
  },
  {
   "cell_type": "code",
   "execution_count": 16,
   "metadata": {},
   "outputs": [
    {
     "ename": "NameError",
     "evalue": "name 'Z' is not defined",
     "output_type": "error",
     "traceback": [
      "\u001b[1;31m---------------------------------------------------------------------------\u001b[0m",
      "\u001b[1;31mNameError\u001b[0m                                 Traceback (most recent call last)",
      "\u001b[1;32mc:\\Users\\raavi\\OneDrive\\Desktop\\python.visual\\hii.ipynb Cell 7\u001b[0m line \u001b[0;36m2\n\u001b[0;32m      <a href='vscode-notebook-cell:/c%3A/Users/raavi/OneDrive/Desktop/python.visual/hii.ipynb#X10sZmlsZQ%3D%3D?line=0'>1</a>\u001b[0m a\u001b[39m=\u001b[39m\u001b[39m\"\u001b[39m\u001b[39mA\u001b[39m\u001b[39m\"\u001b[39m\n\u001b[1;32m----> <a href='vscode-notebook-cell:/c%3A/Users/raavi/OneDrive/Desktop/python.visual/hii.ipynb#X10sZmlsZQ%3D%3D?line=1'>2</a>\u001b[0m \u001b[39mif\u001b[39;00m  A\u001b[39m<\u001b[39m\u001b[39m=\u001b[39mA\u001b[39m<\u001b[39m\u001b[39m=\u001b[39mZ:\n\u001b[0;32m      <a href='vscode-notebook-cell:/c%3A/Users/raavi/OneDrive/Desktop/python.visual/hii.ipynb#X10sZmlsZQ%3D%3D?line=2'>3</a>\u001b[0m     \u001b[39mprint\u001b[39m({a:\u001b[39mord\u001b[39m(a)})\n",
      "\u001b[1;31mNameError\u001b[0m: name 'Z' is not defined"
     ]
    }
   ],
   "source": [
    "a=\"A\"\n",
    "if  A<=A<=Z:\n",
    "    print({a:ord(a)})\n"
   ]
  },
  {
   "cell_type": "code",
   "execution_count": 2,
   "metadata": {},
   "outputs": [
    {
     "name": "stdout",
     "output_type": "stream",
     "text": [
      "f\n"
     ]
    }
   ],
   "source": [
    "a=\"e\"\n",
    "if a in [\"a\",\"e\",\"i\",\"o\",\"u\"]:\n",
    "    print(chr(ord(a)+1))"
   ]
  },
  {
   "cell_type": "code",
   "execution_count": 10,
   "metadata": {},
   "outputs": [],
   "source": [
    "a=[\"10\",\"20\",\"30\"]\n",
    "if a[len(a)//2]==0:\n",
    "    print(a[len(a)/2])"
   ]
  },
  {
   "cell_type": "code",
   "execution_count": null,
   "metadata": {},
   "outputs": [],
   "source": []
  },
  {
   "cell_type": "code",
   "execution_count": 22,
   "metadata": {},
   "outputs": [
    {
     "name": "stdout",
     "output_type": "stream",
     "text": [
      "127\n"
     ]
    }
   ],
   "source": [
    "sum1=0\n",
    "# fact=1\n",
    "num=153\n",
    "\n",
    "while num: \n",
    "    ld=num%10\n",
    "    fact=1\n",
    "    while ld!=0:\n",
    "        fact*=ld\n",
    "        ld-=1\n",
    "    \n",
    "    sum1+=fact\n",
    "    num=num//10\n",
    "print(sum1)\n",
    "    \n",
    "    \n",
    "    # num=num//10\n",
    "# sum1+=fact\n",
    "    \n"
   ]
  },
  {
   "cell_type": "code",
   "execution_count": 8,
   "metadata": {},
   "outputs": [
    {
     "name": "stdout",
     "output_type": "stream",
     "text": [
      "120\n"
     ]
    }
   ],
   "source": [
    "num=5\n",
    "fact=1\n",
    "while num:\n",
    "    fact*=num\n",
    "    num-=1\n",
    "print(fact)"
   ]
  },
  {
   "cell_type": "code",
   "execution_count": 9,
   "metadata": {},
   "outputs": [
    {
     "name": "stdout",
     "output_type": "stream",
     "text": [
      "1\n"
     ]
    },
    {
     "ename": "KeyboardInterrupt",
     "evalue": "",
     "output_type": "error",
     "traceback": [
      "\u001b[1;31m---------------------------------------------------------------------------\u001b[0m",
      "\u001b[1;31mKeyboardInterrupt\u001b[0m                         Traceback (most recent call last)",
      "\u001b[1;32mc:\\Users\\raavi\\OneDrive\\Desktop\\python.visual\\hii.ipynb Cell 13\u001b[0m line \u001b[0;36m5\n\u001b[0;32m      <a href='vscode-notebook-cell:/c%3A/Users/raavi/OneDrive/Desktop/python.visual/hii.ipynb#X15sZmlsZQ%3D%3D?line=2'>3</a>\u001b[0m sum1\u001b[39m=\u001b[39m\u001b[39m0\u001b[39m\n\u001b[0;32m      <a href='vscode-notebook-cell:/c%3A/Users/raavi/OneDrive/Desktop/python.visual/hii.ipynb#X15sZmlsZQ%3D%3D?line=3'>4</a>\u001b[0m temp\u001b[39m=\u001b[39mstart\n\u001b[1;32m----> <a href='vscode-notebook-cell:/c%3A/Users/raavi/OneDrive/Desktop/python.visual/hii.ipynb#X15sZmlsZQ%3D%3D?line=4'>5</a>\u001b[0m \u001b[39mwhile\u001b[39;00m start\u001b[39m<\u001b[39m\u001b[39m=\u001b[39mend:\n\u001b[0;32m      <a href='vscode-notebook-cell:/c%3A/Users/raavi/OneDrive/Desktop/python.visual/hii.ipynb#X15sZmlsZQ%3D%3D?line=5'>6</a>\u001b[0m     ld\u001b[39m=\u001b[39mstart\u001b[39m%\u001b[39m\u001b[39m10\u001b[39m\n\u001b[0;32m      <a href='vscode-notebook-cell:/c%3A/Users/raavi/OneDrive/Desktop/python.visual/hii.ipynb#X15sZmlsZQ%3D%3D?line=6'>7</a>\u001b[0m     n\u001b[39m=\u001b[39mld\n",
      "\u001b[1;31mKeyboardInterrupt\u001b[0m: "
     ]
    }
   ],
   "source": [
    "start=1\n",
    "end=1000\n",
    "sum1=0\n",
    "temp=start\n",
    "while start<=end:\n",
    "    ld=start%10\n",
    "    n=ld\n",
    "    fact=1\n",
    "    while n:\n",
    "        fact*=n\n",
    "        n-=1\n",
    "    sum1+=fact\n",
    "    start=start//10\n",
    "    if temp==sum1:\n",
    "        print(sum1)\n",
    "    \n",
    "start+=1\n",
    "\n"
   ]
  },
  {
   "cell_type": "code",
   "execution_count": null,
   "metadata": {},
   "outputs": [],
   "source": [
    "start=0\n",
    "end=1000\n",
    "while start<=end:\n",
    "    num=start\n",
    "    temp=start\n",
    "    res=temp\n",
    "    count=0\n",
    "    while num:\n",
    "        num=num//10\n",
    "        count+=1\n",
    "        "
   ]
  }
 ],
 "metadata": {
  "kernelspec": {
   "display_name": "Python 3",
   "language": "python",
   "name": "python3"
  },
  "language_info": {
   "codemirror_mode": {
    "name": "ipython",
    "version": 3
   },
   "file_extension": ".py",
   "mimetype": "text/x-python",
   "name": "python",
   "nbconvert_exporter": "python",
   "pygments_lexer": "ipython3",
   "version": "3.11.5"
  },
  "orig_nbformat": 4
 },
 "nbformat": 4,
 "nbformat_minor": 2
}
